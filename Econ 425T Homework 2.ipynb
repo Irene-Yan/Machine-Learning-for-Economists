{
 "cells": [
  {
   "cell_type": "markdown",
   "id": "6076917b",
   "metadata": {},
   "source": [
    "# Econ 425T Homework 2"
   ]
  },
  {
   "cell_type": "markdown",
   "id": "e8c5b013",
   "metadata": {},
   "source": [
    "AUTHOR：Ruoxuan Yan\n",
    "\n",
    "UID: 506082695"
   ]
  },
  {
   "cell_type": "markdown",
   "id": "2a4a43c4",
   "metadata": {},
   "source": [
    "## 1. Least squares is MLE"
   ]
  },
  {
   "cell_type": "markdown",
   "id": "49b6d048",
   "metadata": {},
   "source": [
    "Because it's linear model with Gaussian errors,\n",
    "$$\n",
    "Y = \\beta_0X_0 + \\beta_1X_1 + ... + \\beta_kX_k + \\epsilon, \\epsilon \\sim N(0, \\sigma).\n",
    "$$\n",
    "\n",
    "The distribution of Y is\n",
    "$$N \\sim (\\beta_0X_0 + \\beta_1X_1 + ... + \\beta_kX_k, \\sigma).$$\n",
    "\n",
    "Log-likelihood function of $\\beta$s is\n",
    "\n",
    "$$\\begin{aligned}\n",
    "l(\\beta) &= \\log(\\prod_{i = 0}^{n}\\frac{1}{\\sqrt{2\\pi}\\sigma}e^{\\frac{-(y_i-(\\beta_0x_{i0} + \\beta_1x_{i1} + ... + \\beta_kx_{ik}))^2}{2\\sigma^2}}) \\\\\n",
    "&=n\\log(\\frac{1}{\\sqrt{2\\pi}\\sigma}) + \\sum_{i = 0}^{n}\\frac{-(y_i-(\\beta_0x_{i0} + \\beta_1x_{i1} + ... + \\beta_kx_{ik}))^2}{2\\sigma^2}\n",
    "\\end{aligned}$$\n",
    "\n",
    "So MLE is to maximize log-likelihood function and is equal to minimize $(y_i-(\\beta_0x_{i0} + \\beta_1x_{i1} + ... + \\beta_kx_{ik}))^2$, which is the same equation as least squares estimation. So least squares is MLE. \n",
    "\n",
    "For the AIC criterion: \n",
    "$$\\begin{aligned}\n",
    "\\text{AIC} &= -  2 \\log L + 2d \\\\\n",
    "&= -2n\\log(\\frac{1}{\\sqrt{2\\pi}\\sigma}) + \\sum_{i = 0}^{n}\\frac{(y_i-(\\beta_0x_{i0} + \\beta_1x_{i1} + ... + \\beta_kx_{ik}))^2}{\\sigma^2} + 2d \\\\\n",
    "&= -2n\\log(\\frac{1}{\\sqrt{2\\pi}\\sigma}) + \\frac{1}{\\sigma^2}(\\sum_{i = 0}^{n}(y_i-(\\beta_0x_{i0} + \\beta_1x_{i1} + ... + \\beta_kx_{ik}))^2 + 2d \\sigma^2).\n",
    "\\end{aligned}$$\n",
    "\n",
    "For Mallow's $C_p$:\n",
    "$$\\begin{aligned}\n",
    "C_p &= \\frac{1}{n} (\\text{RSS} + 2d \\hat{\\sigma}^2) \\\\\n",
    "&= \\frac{1}{n} (\\sum_{i = 0}^{n}(y_i-(\\beta_0x_{i0} + \\beta_1x_{i1} + ... + \\beta_kx_{ik}))^2 + 2d \\hat{\\sigma}^2).\n",
    "\\end{aligned}$$\n",
    "\n",
    "So the smaller value of $\\sum_{i = 0}^{n}(y_i-(\\beta_0x_{i0} + \\beta_1x_{i1} + ... + \\beta_kx_{ik}))^2 + 2d \\hat{\\sigma}^2$ means a smaller value of AIC and Mallow's $C_p$. $C_p$ and AIC are equivalent."
   ]
  },
  {
   "cell_type": "markdown",
   "id": "88b03ca2",
   "metadata": {},
   "source": [
    "## 2. ISL Exercise 6.6.1"
   ]
  },
  {
   "cell_type": "markdown",
   "id": "87232873",
   "metadata": {},
   "source": [
    "### (a)"
   ]
  },
  {
   "cell_type": "markdown",
   "id": "3ed76921",
   "metadata": {},
   "source": [
    "Best subset with k predictors has the smallest training RSS. Because best subset selection algorithm is to select the model with smallest RSS among all the models with k predictors. But for forward stepwise and backward stepwise selection, they both choose the best model based on the model in the previous step with k-1 and k+1 predictors after adding or subtracting one predictor. So the model selected by forward stepwise and backward stepwise selection may not be the model with smallest training RSS among all models with k predictors. "
   ]
  },
  {
   "cell_type": "markdown",
   "id": "5f30cdea",
   "metadata": {},
   "source": [
    "### (b)"
   ]
  },
  {
   "cell_type": "markdown",
   "id": "3ecc510f",
   "metadata": {},
   "source": [
    "We cannot tell which of the three models with k predictors has the smallest test RSS, it depends on the test data. All three models have the chance to generate the smallest test RSS with different test data. But because best subset selection algorithm takes into account more information than the other two methods, it may have a larger probability to generate smallest test RSS."
   ]
  },
  {
   "cell_type": "markdown",
   "id": "57212a1d",
   "metadata": {},
   "source": [
    "### (c)"
   ]
  },
  {
   "cell_type": "markdown",
   "id": "77e4e3f9",
   "metadata": {},
   "source": [
    "i. True \n",
    "\n",
    "ii. True \n",
    "\n",
    "iii. False \n",
    "\n",
    "iv. False \n",
    "\n",
    "v. False"
   ]
  },
  {
   "cell_type": "markdown",
   "id": "f7a36fd4",
   "metadata": {},
   "source": [
    "## 3. ISL Exercise 6.6.3"
   ]
  },
  {
   "cell_type": "markdown",
   "id": "53d75fc2",
   "metadata": {},
   "source": [
    "### (a)"
   ]
  },
  {
   "cell_type": "markdown",
   "id": "613162cc",
   "metadata": {},
   "source": [
    "i. False \n",
    "\n",
    "ii. False \n",
    "\n",
    "iii. False \n",
    "\n",
    "iv. True (Steadily decrease.)\n",
    "\n",
    "v. False\n",
    "\n",
    "Because as we increase s from 0, the model flexibility will increase. So it can fit the training data well and decrease the training RSS."
   ]
  },
  {
   "cell_type": "markdown",
   "id": "7994ac63",
   "metadata": {},
   "source": [
    "### (b)"
   ]
  },
  {
   "cell_type": "markdown",
   "id": "3d18952f",
   "metadata": {},
   "source": [
    "i. False \n",
    "\n",
    "ii. True (Decrease initially, and then eventually start increasing in a U shape.)\n",
    "\n",
    "iii. False \n",
    "\n",
    "iv. False \n",
    "\n",
    "v. False\n",
    "\n",
    "Because as we increase s from 0, the model flexibility will increase. So it can take more information from the training data and become more precision in predicting the testing data initially, and the test RSS will decrease at first. But when model flexibility continues to increase, it will generate overfitting problem and thus increase the test RSS to generate a U shape."
   ]
  },
  {
   "cell_type": "markdown",
   "id": "dae361ad",
   "metadata": {},
   "source": [
    "### (c)"
   ]
  },
  {
   "cell_type": "markdown",
   "id": "debfb59a",
   "metadata": {},
   "source": [
    "i. False \n",
    "\n",
    "ii. False \n",
    "\n",
    "iii. True (Steadily increase.)\n",
    "\n",
    "iv. False \n",
    "\n",
    "v. False\n",
    "\n",
    "Because as the model flexibility increases, the variance of the model will increase as well. "
   ]
  },
  {
   "cell_type": "markdown",
   "id": "becd1c72",
   "metadata": {},
   "source": [
    "### (d)"
   ]
  },
  {
   "cell_type": "markdown",
   "id": "0482437f",
   "metadata": {},
   "source": [
    "i. False \n",
    "\n",
    "ii. False \n",
    "\n",
    "iii. False \n",
    "\n",
    "iv. True (Steadily decrease.) \n",
    "\n",
    "v. False\n",
    "\n",
    "Because as the model flexibility increases, it takes into account more information from the training data. So the expected value of the estimation will be closer to the true value and squared bias steadily decrease."
   ]
  },
  {
   "cell_type": "markdown",
   "id": "bc6e4827",
   "metadata": {},
   "source": [
    "### (e)"
   ]
  },
  {
   "cell_type": "markdown",
   "id": "1019da6f",
   "metadata": {},
   "source": [
    "i. False \n",
    "\n",
    "ii. False \n",
    "\n",
    "iii. False \n",
    "\n",
    "iv. False \n",
    "\n",
    "v. True (Remain constant.)\n",
    "\n",
    "Because the irreducible error is irrelavant to the model, when we increase s from 0 which increases model flexibility, the irreducible error just remain constant. "
   ]
  },
  {
   "cell_type": "markdown",
   "id": "a12ec4c2",
   "metadata": {},
   "source": [
    "## 4. ISL Exercise 6.6.4"
   ]
  },
  {
   "cell_type": "markdown",
   "id": "3cad620c",
   "metadata": {},
   "source": [
    "### (a)"
   ]
  },
  {
   "cell_type": "markdown",
   "id": "aee268d1",
   "metadata": {},
   "source": [
    "i. False \n",
    "\n",
    "ii. False \n",
    "\n",
    "iii. True (Steadily increase.)\n",
    "\n",
    "iv. False \n",
    "\n",
    "v. False\n",
    "\n",
    "Because as we increase $\\lambda$ from 0, the model flexibility will decrease. So it has more constraint and fits the training data worse and thus increase the training RSS steadily."
   ]
  },
  {
   "cell_type": "markdown",
   "id": "8f3e9a38",
   "metadata": {},
   "source": [
    "### (b)"
   ]
  },
  {
   "cell_type": "markdown",
   "id": "e8ef1d69",
   "metadata": {},
   "source": [
    "i. False \n",
    "\n",
    "ii. True (Decrease initially, and then eventually start increasing in a U shape.)\n",
    "\n",
    "iii. False \n",
    "\n",
    "iv. False \n",
    "\n",
    "v. False\n",
    "\n",
    "Because as we increase $\\lambda$ from 0, the model flexibility will decrease. So it will decrease the overfitting problem at first and the test RSS will decrease. But when model flexibility continues to decrease, it lose lots of information from the training data and become less precise in predicting the test data and thus increase the test RSS to generate a U shape."
   ]
  },
  {
   "cell_type": "markdown",
   "id": "f2f58aeb",
   "metadata": {},
   "source": [
    "### (c)"
   ]
  },
  {
   "cell_type": "markdown",
   "id": "f9017aa9",
   "metadata": {},
   "source": [
    "i. False \n",
    "\n",
    "ii. False \n",
    "\n",
    "iii. False \n",
    "\n",
    "iv. True (Steadily decrease.) \n",
    "\n",
    "v. False\n",
    "\n",
    "Because as the model flexibility decreases, the variance of the model will decrease as well. "
   ]
  },
  {
   "cell_type": "markdown",
   "id": "06374a19",
   "metadata": {},
   "source": [
    "### (d)"
   ]
  },
  {
   "cell_type": "markdown",
   "id": "5fc8f2bd",
   "metadata": {},
   "source": [
    "i. False \n",
    "\n",
    "ii. False \n",
    "\n",
    "iii. True (Steadily increase.)\n",
    "\n",
    "iv. False \n",
    "\n",
    "v. False\n",
    "\n",
    "Because as the model flexibility decreases, it takes into account less information from the training data. So the expected value of the estimation will be less close to the true value and squared bias steadily increase."
   ]
  },
  {
   "cell_type": "markdown",
   "id": "2d22dad2",
   "metadata": {},
   "source": [
    "### (e)"
   ]
  },
  {
   "cell_type": "markdown",
   "id": "99136757",
   "metadata": {},
   "source": [
    "i. False \n",
    "\n",
    "ii. False \n",
    "\n",
    "iii. False \n",
    "\n",
    "iv. False\n",
    "\n",
    "v. True (Remain constant.)\n",
    "\n",
    "Because the irreducible error is irrelavant to the model, when we increase $\\lambda$ from 0 which decreases model flexibility, the irreducible error just remain constant. "
   ]
  },
  {
   "cell_type": "markdown",
   "id": "96bba032",
   "metadata": {},
   "source": [
    "## 5. ISL Exercise 6.6.5"
   ]
  },
  {
   "cell_type": "markdown",
   "id": "31f25a47",
   "metadata": {},
   "source": [
    "### (a)"
   ]
  },
  {
   "cell_type": "markdown",
   "id": "b83cbcbc",
   "metadata": {},
   "source": [
    "Because in this setting $\\hat \\beta_0 = 0$ and $x_{11} = x_{12}$, $x_{21} = x_{22}$. And $y_1 + y_2 = 0$ and $x_{11} + x_{21} = 0$ and $x_{12} + x_{22} = 0$. Assume that $x_{11} = x_{12} = x_1$, $x_{21} = x_{22} = x_2$. The ridge regression optimization problem is to minimize $\\text{RSS} + \\lambda \\sum_{j=1}^p \\beta_j^2.$ Use the parameters in this setting, the objective function we need to minimize is:\n",
    "$$\n",
    "(y_1 - \\hat\\beta_1x_1 - \\hat\\beta_2x_1)^2 + (y_2 - \\hat\\beta_1x_2 - \\hat\\beta_2x_2)^2 + \\lambda(\\hat\\beta_1^2 + \\hat\\beta_2^2)\n",
    "$$"
   ]
  },
  {
   "cell_type": "markdown",
   "id": "83bd7a35",
   "metadata": {},
   "source": [
    "### (b)"
   ]
  },
  {
   "cell_type": "markdown",
   "id": "90aeda91",
   "metadata": {},
   "source": [
    "Take derivative of the funtion in (a) with respect to $\\hat\\beta_1$ and $\\hat\\beta_2$:\n",
    "$$\n",
    "2(y_1 - \\hat\\beta_1x_1 - \\hat\\beta_2x_1)x_1 + 2(y_2 - \\hat\\beta_1x_2 - \\hat\\beta_2x_2)x_2 + 2\\lambda\\hat\\beta_1 = 0 \\\\\n",
    "2(y_1 - \\hat\\beta_1x_1 - \\hat\\beta_2x_1)x_1 + 2(y_2 - \\hat\\beta_1x_2 - \\hat\\beta_2x_2)x_2 + 2\\lambda\\hat\\beta_2 = 0\n",
    "$$\n",
    "\n",
    "By subtracting two equations above we get:\n",
    "$$\n",
    "2\\lambda\\hat\\beta_1 - 2\\lambda\\hat\\beta_2 = 0 \\\\\n",
    "\\hat\\beta_1 = \\hat\\beta_2\n",
    "$$"
   ]
  },
  {
   "cell_type": "markdown",
   "id": "9fc8bc64",
   "metadata": {},
   "source": [
    "### (c)"
   ]
  },
  {
   "cell_type": "markdown",
   "id": "36c3b59e",
   "metadata": {},
   "source": [
    "The lasso regression optimization problem is to minimize $\\text{RSS} + \\lambda \\sum_{j=1}^p |\\beta_j|$. Use the parameters in this setting, the objective function we need to minimize is:\n",
    "$$\n",
    "(y_1 - \\hat\\beta_1x_1 - \\hat\\beta_2x_1)^2 + (y_2 - \\hat\\beta_1x_2 - \\hat\\beta_2x_2)^2 + \\lambda(|\\hat\\beta_1| + |\\hat\\beta_2|)\n",
    "$$"
   ]
  },
  {
   "cell_type": "markdown",
   "id": "175063e4",
   "metadata": {},
   "source": [
    "### (d)"
   ]
  },
  {
   "cell_type": "markdown",
   "id": "0c4ced32",
   "metadata": {},
   "source": [
    "Because $y_1 + y_2 = 0$ and $x_{11} + x_{21} = 0$ and $x_{12} + x_{22} = 0$, our goal is to minimize $$2(y_1 - \\hat\\beta_1x_1 - \\hat\\beta_2x_1)^2 + \\lambda(|\\hat\\beta_1| + |\\hat\\beta_2|).$$\n",
    "\n",
    "Also this problem can be written as to minimize $$2(y_1 - \\hat\\beta_1x_1 - \\hat\\beta_2x_1)^2$$ subject to the constraint $$|\\hat\\beta_1| + |\\hat\\beta_2| \\le s.$$\n",
    "\n",
    "When $\\hat\\beta_1 + \\hat\\beta_2 = \\frac{y_1}{x_1}$, the objective function achieves its minimum value $0$. And the constraint of $\\hat\\beta_1$ and $\\hat\\beta_2$ forms a diamond area around $0$ with two edges $\\hat\\beta_1 + \\hat\\beta_2 = s$ and $\\hat\\beta_1 + \\hat\\beta_2 = -s$ having the same slope as the set of solutions for the objective function. So when these lines coincide, the entire edge $\\hat\\beta_1 + \\hat\\beta_2 = s, \\hat\\beta_1,\\hat\\beta_2 \\geq 0$ and $\\hat\\beta_1 + \\hat\\beta_2 = -s, \\hat\\beta_1,\\hat\\beta_2 \\le 0$ are the solutions for this problem. So there are many possible solutions to the optimization problem instead of one."
   ]
  },
  {
   "cell_type": "markdown",
   "id": "dc71e17b",
   "metadata": {},
   "source": [
    "## 6. ISL Exercise 6.6.11"
   ]
  },
  {
   "cell_type": "code",
   "execution_count": 2,
   "id": "b3c862ea",
   "metadata": {},
   "outputs": [],
   "source": [
    "import pandas as pd\n",
    "import io\n",
    "import requests\n",
    "import numpy as np\n",
    "import seaborn as sns\n",
    "import matplotlib.pyplot as plt"
   ]
  },
  {
   "cell_type": "code",
   "execution_count": 3,
   "id": "7c06cb22",
   "metadata": {},
   "outputs": [
    {
     "data": {
      "text/html": [
       "<div>\n",
       "<style scoped>\n",
       "    .dataframe tbody tr th:only-of-type {\n",
       "        vertical-align: middle;\n",
       "    }\n",
       "\n",
       "    .dataframe tbody tr th {\n",
       "        vertical-align: top;\n",
       "    }\n",
       "\n",
       "    .dataframe thead th {\n",
       "        text-align: right;\n",
       "    }\n",
       "</style>\n",
       "<table border=\"1\" class=\"dataframe\">\n",
       "  <thead>\n",
       "    <tr style=\"text-align: right;\">\n",
       "      <th></th>\n",
       "      <th>crim</th>\n",
       "      <th>zn</th>\n",
       "      <th>indus</th>\n",
       "      <th>chas</th>\n",
       "      <th>nox</th>\n",
       "      <th>rm</th>\n",
       "      <th>age</th>\n",
       "      <th>dis</th>\n",
       "      <th>rad</th>\n",
       "      <th>tax</th>\n",
       "      <th>ptratio</th>\n",
       "      <th>lstat</th>\n",
       "      <th>medv</th>\n",
       "    </tr>\n",
       "  </thead>\n",
       "  <tbody>\n",
       "    <tr>\n",
       "      <th>1</th>\n",
       "      <td>0.00632</td>\n",
       "      <td>18.0</td>\n",
       "      <td>2.31</td>\n",
       "      <td>0</td>\n",
       "      <td>0.538</td>\n",
       "      <td>6.575</td>\n",
       "      <td>65.2</td>\n",
       "      <td>4.0900</td>\n",
       "      <td>1</td>\n",
       "      <td>296</td>\n",
       "      <td>15.3</td>\n",
       "      <td>4.98</td>\n",
       "      <td>24.0</td>\n",
       "    </tr>\n",
       "    <tr>\n",
       "      <th>2</th>\n",
       "      <td>0.02731</td>\n",
       "      <td>0.0</td>\n",
       "      <td>7.07</td>\n",
       "      <td>0</td>\n",
       "      <td>0.469</td>\n",
       "      <td>6.421</td>\n",
       "      <td>78.9</td>\n",
       "      <td>4.9671</td>\n",
       "      <td>2</td>\n",
       "      <td>242</td>\n",
       "      <td>17.8</td>\n",
       "      <td>9.14</td>\n",
       "      <td>21.6</td>\n",
       "    </tr>\n",
       "    <tr>\n",
       "      <th>3</th>\n",
       "      <td>0.02729</td>\n",
       "      <td>0.0</td>\n",
       "      <td>7.07</td>\n",
       "      <td>0</td>\n",
       "      <td>0.469</td>\n",
       "      <td>7.185</td>\n",
       "      <td>61.1</td>\n",
       "      <td>4.9671</td>\n",
       "      <td>2</td>\n",
       "      <td>242</td>\n",
       "      <td>17.8</td>\n",
       "      <td>4.03</td>\n",
       "      <td>34.7</td>\n",
       "    </tr>\n",
       "    <tr>\n",
       "      <th>4</th>\n",
       "      <td>0.03237</td>\n",
       "      <td>0.0</td>\n",
       "      <td>2.18</td>\n",
       "      <td>0</td>\n",
       "      <td>0.458</td>\n",
       "      <td>6.998</td>\n",
       "      <td>45.8</td>\n",
       "      <td>6.0622</td>\n",
       "      <td>3</td>\n",
       "      <td>222</td>\n",
       "      <td>18.7</td>\n",
       "      <td>2.94</td>\n",
       "      <td>33.4</td>\n",
       "    </tr>\n",
       "    <tr>\n",
       "      <th>5</th>\n",
       "      <td>0.06905</td>\n",
       "      <td>0.0</td>\n",
       "      <td>2.18</td>\n",
       "      <td>0</td>\n",
       "      <td>0.458</td>\n",
       "      <td>7.147</td>\n",
       "      <td>54.2</td>\n",
       "      <td>6.0622</td>\n",
       "      <td>3</td>\n",
       "      <td>222</td>\n",
       "      <td>18.7</td>\n",
       "      <td>5.33</td>\n",
       "      <td>36.2</td>\n",
       "    </tr>\n",
       "    <tr>\n",
       "      <th>...</th>\n",
       "      <td>...</td>\n",
       "      <td>...</td>\n",
       "      <td>...</td>\n",
       "      <td>...</td>\n",
       "      <td>...</td>\n",
       "      <td>...</td>\n",
       "      <td>...</td>\n",
       "      <td>...</td>\n",
       "      <td>...</td>\n",
       "      <td>...</td>\n",
       "      <td>...</td>\n",
       "      <td>...</td>\n",
       "      <td>...</td>\n",
       "    </tr>\n",
       "    <tr>\n",
       "      <th>502</th>\n",
       "      <td>0.06263</td>\n",
       "      <td>0.0</td>\n",
       "      <td>11.93</td>\n",
       "      <td>0</td>\n",
       "      <td>0.573</td>\n",
       "      <td>6.593</td>\n",
       "      <td>69.1</td>\n",
       "      <td>2.4786</td>\n",
       "      <td>1</td>\n",
       "      <td>273</td>\n",
       "      <td>21.0</td>\n",
       "      <td>9.67</td>\n",
       "      <td>22.4</td>\n",
       "    </tr>\n",
       "    <tr>\n",
       "      <th>503</th>\n",
       "      <td>0.04527</td>\n",
       "      <td>0.0</td>\n",
       "      <td>11.93</td>\n",
       "      <td>0</td>\n",
       "      <td>0.573</td>\n",
       "      <td>6.120</td>\n",
       "      <td>76.7</td>\n",
       "      <td>2.2875</td>\n",
       "      <td>1</td>\n",
       "      <td>273</td>\n",
       "      <td>21.0</td>\n",
       "      <td>9.08</td>\n",
       "      <td>20.6</td>\n",
       "    </tr>\n",
       "    <tr>\n",
       "      <th>504</th>\n",
       "      <td>0.06076</td>\n",
       "      <td>0.0</td>\n",
       "      <td>11.93</td>\n",
       "      <td>0</td>\n",
       "      <td>0.573</td>\n",
       "      <td>6.976</td>\n",
       "      <td>91.0</td>\n",
       "      <td>2.1675</td>\n",
       "      <td>1</td>\n",
       "      <td>273</td>\n",
       "      <td>21.0</td>\n",
       "      <td>5.64</td>\n",
       "      <td>23.9</td>\n",
       "    </tr>\n",
       "    <tr>\n",
       "      <th>505</th>\n",
       "      <td>0.10959</td>\n",
       "      <td>0.0</td>\n",
       "      <td>11.93</td>\n",
       "      <td>0</td>\n",
       "      <td>0.573</td>\n",
       "      <td>6.794</td>\n",
       "      <td>89.3</td>\n",
       "      <td>2.3889</td>\n",
       "      <td>1</td>\n",
       "      <td>273</td>\n",
       "      <td>21.0</td>\n",
       "      <td>6.48</td>\n",
       "      <td>22.0</td>\n",
       "    </tr>\n",
       "    <tr>\n",
       "      <th>506</th>\n",
       "      <td>0.04741</td>\n",
       "      <td>0.0</td>\n",
       "      <td>11.93</td>\n",
       "      <td>0</td>\n",
       "      <td>0.573</td>\n",
       "      <td>6.030</td>\n",
       "      <td>80.8</td>\n",
       "      <td>2.5050</td>\n",
       "      <td>1</td>\n",
       "      <td>273</td>\n",
       "      <td>21.0</td>\n",
       "      <td>7.88</td>\n",
       "      <td>11.9</td>\n",
       "    </tr>\n",
       "  </tbody>\n",
       "</table>\n",
       "<p>506 rows × 13 columns</p>\n",
       "</div>"
      ],
      "text/plain": [
       "        crim    zn  indus  chas    nox     rm   age     dis  rad  tax  \\\n",
       "1    0.00632  18.0   2.31     0  0.538  6.575  65.2  4.0900    1  296   \n",
       "2    0.02731   0.0   7.07     0  0.469  6.421  78.9  4.9671    2  242   \n",
       "3    0.02729   0.0   7.07     0  0.469  7.185  61.1  4.9671    2  242   \n",
       "4    0.03237   0.0   2.18     0  0.458  6.998  45.8  6.0622    3  222   \n",
       "5    0.06905   0.0   2.18     0  0.458  7.147  54.2  6.0622    3  222   \n",
       "..       ...   ...    ...   ...    ...    ...   ...     ...  ...  ...   \n",
       "502  0.06263   0.0  11.93     0  0.573  6.593  69.1  2.4786    1  273   \n",
       "503  0.04527   0.0  11.93     0  0.573  6.120  76.7  2.2875    1  273   \n",
       "504  0.06076   0.0  11.93     0  0.573  6.976  91.0  2.1675    1  273   \n",
       "505  0.10959   0.0  11.93     0  0.573  6.794  89.3  2.3889    1  273   \n",
       "506  0.04741   0.0  11.93     0  0.573  6.030  80.8  2.5050    1  273   \n",
       "\n",
       "     ptratio  lstat  medv  \n",
       "1       15.3   4.98  24.0  \n",
       "2       17.8   9.14  21.6  \n",
       "3       17.8   4.03  34.7  \n",
       "4       18.7   2.94  33.4  \n",
       "5       18.7   5.33  36.2  \n",
       "..       ...    ...   ...  \n",
       "502     21.0   9.67  22.4  \n",
       "503     21.0   9.08  20.6  \n",
       "504     21.0   5.64  23.9  \n",
       "505     21.0   6.48  22.0  \n",
       "506     21.0   7.88  11.9  \n",
       "\n",
       "[506 rows x 13 columns]"
      ]
     },
     "execution_count": 3,
     "metadata": {},
     "output_type": "execute_result"
    }
   ],
   "source": [
    "# Get the data\n",
    "url = \"https://raw.githubusercontent.com/ucla-econ-425t/2023winter/master/slides/data/Boston.csv\"\n",
    "s = requests.get(url).content\n",
    "Boston = pd.read_csv(io.StringIO(s.decode('utf-8')), index_col = 0)\n",
    "Boston"
   ]
  },
  {
   "cell_type": "code",
   "execution_count": 4,
   "id": "027c7ad3",
   "metadata": {},
   "outputs": [
    {
     "name": "stdout",
     "output_type": "stream",
     "text": [
      "<class 'pandas.core.frame.DataFrame'>\n",
      "Int64Index: 506 entries, 1 to 506\n",
      "Data columns (total 13 columns):\n",
      " #   Column   Non-Null Count  Dtype  \n",
      "---  ------   --------------  -----  \n",
      " 0   crim     506 non-null    float64\n",
      " 1   zn       506 non-null    float64\n",
      " 2   indus    506 non-null    float64\n",
      " 3   chas     506 non-null    int64  \n",
      " 4   nox      506 non-null    float64\n",
      " 5   rm       506 non-null    float64\n",
      " 6   age      506 non-null    float64\n",
      " 7   dis      506 non-null    float64\n",
      " 8   rad      506 non-null    int64  \n",
      " 9   tax      506 non-null    int64  \n",
      " 10  ptratio  506 non-null    float64\n",
      " 11  lstat    506 non-null    float64\n",
      " 12  medv     506 non-null    float64\n",
      "dtypes: float64(10), int64(3)\n",
      "memory usage: 55.3 KB\n"
     ]
    }
   ],
   "source": [
    "# Numerical summaries\n",
    "Boston.info()"
   ]
  },
  {
   "cell_type": "code",
   "execution_count": 5,
   "id": "b3f90066",
   "metadata": {},
   "outputs": [
    {
     "data": {
      "text/html": [
       "<div>\n",
       "<style scoped>\n",
       "    .dataframe tbody tr th:only-of-type {\n",
       "        vertical-align: middle;\n",
       "    }\n",
       "\n",
       "    .dataframe tbody tr th {\n",
       "        vertical-align: top;\n",
       "    }\n",
       "\n",
       "    .dataframe thead th {\n",
       "        text-align: right;\n",
       "    }\n",
       "</style>\n",
       "<table border=\"1\" class=\"dataframe\">\n",
       "  <thead>\n",
       "    <tr style=\"text-align: right;\">\n",
       "      <th></th>\n",
       "      <th>crim</th>\n",
       "      <th>zn</th>\n",
       "      <th>indus</th>\n",
       "      <th>chas</th>\n",
       "      <th>nox</th>\n",
       "      <th>rm</th>\n",
       "      <th>age</th>\n",
       "      <th>dis</th>\n",
       "      <th>rad</th>\n",
       "      <th>tax</th>\n",
       "      <th>ptratio</th>\n",
       "      <th>lstat</th>\n",
       "      <th>medv</th>\n",
       "    </tr>\n",
       "  </thead>\n",
       "  <tbody>\n",
       "    <tr>\n",
       "      <th>count</th>\n",
       "      <td>506.000000</td>\n",
       "      <td>506.000000</td>\n",
       "      <td>506.000000</td>\n",
       "      <td>506.000000</td>\n",
       "      <td>506.000000</td>\n",
       "      <td>506.000000</td>\n",
       "      <td>506.000000</td>\n",
       "      <td>506.000000</td>\n",
       "      <td>506.000000</td>\n",
       "      <td>506.000000</td>\n",
       "      <td>506.000000</td>\n",
       "      <td>506.000000</td>\n",
       "      <td>506.000000</td>\n",
       "    </tr>\n",
       "    <tr>\n",
       "      <th>mean</th>\n",
       "      <td>3.613524</td>\n",
       "      <td>11.363636</td>\n",
       "      <td>11.136779</td>\n",
       "      <td>0.069170</td>\n",
       "      <td>0.554695</td>\n",
       "      <td>6.284634</td>\n",
       "      <td>68.574901</td>\n",
       "      <td>3.795043</td>\n",
       "      <td>9.549407</td>\n",
       "      <td>408.237154</td>\n",
       "      <td>18.455534</td>\n",
       "      <td>12.653063</td>\n",
       "      <td>22.532806</td>\n",
       "    </tr>\n",
       "    <tr>\n",
       "      <th>std</th>\n",
       "      <td>8.601545</td>\n",
       "      <td>23.322453</td>\n",
       "      <td>6.860353</td>\n",
       "      <td>0.253994</td>\n",
       "      <td>0.115878</td>\n",
       "      <td>0.702617</td>\n",
       "      <td>28.148861</td>\n",
       "      <td>2.105710</td>\n",
       "      <td>8.707259</td>\n",
       "      <td>168.537116</td>\n",
       "      <td>2.164946</td>\n",
       "      <td>7.141062</td>\n",
       "      <td>9.197104</td>\n",
       "    </tr>\n",
       "    <tr>\n",
       "      <th>min</th>\n",
       "      <td>0.006320</td>\n",
       "      <td>0.000000</td>\n",
       "      <td>0.460000</td>\n",
       "      <td>0.000000</td>\n",
       "      <td>0.385000</td>\n",
       "      <td>3.561000</td>\n",
       "      <td>2.900000</td>\n",
       "      <td>1.129600</td>\n",
       "      <td>1.000000</td>\n",
       "      <td>187.000000</td>\n",
       "      <td>12.600000</td>\n",
       "      <td>1.730000</td>\n",
       "      <td>5.000000</td>\n",
       "    </tr>\n",
       "    <tr>\n",
       "      <th>25%</th>\n",
       "      <td>0.082045</td>\n",
       "      <td>0.000000</td>\n",
       "      <td>5.190000</td>\n",
       "      <td>0.000000</td>\n",
       "      <td>0.449000</td>\n",
       "      <td>5.885500</td>\n",
       "      <td>45.025000</td>\n",
       "      <td>2.100175</td>\n",
       "      <td>4.000000</td>\n",
       "      <td>279.000000</td>\n",
       "      <td>17.400000</td>\n",
       "      <td>6.950000</td>\n",
       "      <td>17.025000</td>\n",
       "    </tr>\n",
       "    <tr>\n",
       "      <th>50%</th>\n",
       "      <td>0.256510</td>\n",
       "      <td>0.000000</td>\n",
       "      <td>9.690000</td>\n",
       "      <td>0.000000</td>\n",
       "      <td>0.538000</td>\n",
       "      <td>6.208500</td>\n",
       "      <td>77.500000</td>\n",
       "      <td>3.207450</td>\n",
       "      <td>5.000000</td>\n",
       "      <td>330.000000</td>\n",
       "      <td>19.050000</td>\n",
       "      <td>11.360000</td>\n",
       "      <td>21.200000</td>\n",
       "    </tr>\n",
       "    <tr>\n",
       "      <th>75%</th>\n",
       "      <td>3.677083</td>\n",
       "      <td>12.500000</td>\n",
       "      <td>18.100000</td>\n",
       "      <td>0.000000</td>\n",
       "      <td>0.624000</td>\n",
       "      <td>6.623500</td>\n",
       "      <td>94.075000</td>\n",
       "      <td>5.188425</td>\n",
       "      <td>24.000000</td>\n",
       "      <td>666.000000</td>\n",
       "      <td>20.200000</td>\n",
       "      <td>16.955000</td>\n",
       "      <td>25.000000</td>\n",
       "    </tr>\n",
       "    <tr>\n",
       "      <th>max</th>\n",
       "      <td>88.976200</td>\n",
       "      <td>100.000000</td>\n",
       "      <td>27.740000</td>\n",
       "      <td>1.000000</td>\n",
       "      <td>0.871000</td>\n",
       "      <td>8.780000</td>\n",
       "      <td>100.000000</td>\n",
       "      <td>12.126500</td>\n",
       "      <td>24.000000</td>\n",
       "      <td>711.000000</td>\n",
       "      <td>22.000000</td>\n",
       "      <td>37.970000</td>\n",
       "      <td>50.000000</td>\n",
       "    </tr>\n",
       "  </tbody>\n",
       "</table>\n",
       "</div>"
      ],
      "text/plain": [
       "             crim          zn       indus        chas         nox          rm  \\\n",
       "count  506.000000  506.000000  506.000000  506.000000  506.000000  506.000000   \n",
       "mean     3.613524   11.363636   11.136779    0.069170    0.554695    6.284634   \n",
       "std      8.601545   23.322453    6.860353    0.253994    0.115878    0.702617   \n",
       "min      0.006320    0.000000    0.460000    0.000000    0.385000    3.561000   \n",
       "25%      0.082045    0.000000    5.190000    0.000000    0.449000    5.885500   \n",
       "50%      0.256510    0.000000    9.690000    0.000000    0.538000    6.208500   \n",
       "75%      3.677083   12.500000   18.100000    0.000000    0.624000    6.623500   \n",
       "max     88.976200  100.000000   27.740000    1.000000    0.871000    8.780000   \n",
       "\n",
       "              age         dis         rad         tax     ptratio       lstat  \\\n",
       "count  506.000000  506.000000  506.000000  506.000000  506.000000  506.000000   \n",
       "mean    68.574901    3.795043    9.549407  408.237154   18.455534   12.653063   \n",
       "std     28.148861    2.105710    8.707259  168.537116    2.164946    7.141062   \n",
       "min      2.900000    1.129600    1.000000  187.000000   12.600000    1.730000   \n",
       "25%     45.025000    2.100175    4.000000  279.000000   17.400000    6.950000   \n",
       "50%     77.500000    3.207450    5.000000  330.000000   19.050000   11.360000   \n",
       "75%     94.075000    5.188425   24.000000  666.000000   20.200000   16.955000   \n",
       "max    100.000000   12.126500   24.000000  711.000000   22.000000   37.970000   \n",
       "\n",
       "             medv  \n",
       "count  506.000000  \n",
       "mean    22.532806  \n",
       "std      9.197104  \n",
       "min      5.000000  \n",
       "25%     17.025000  \n",
       "50%     21.200000  \n",
       "75%     25.000000  \n",
       "max     50.000000  "
      ]
     },
     "execution_count": 5,
     "metadata": {},
     "output_type": "execute_result"
    }
   ],
   "source": [
    "# Describe the data\n",
    "Boston.describe()"
   ]
  },
  {
   "cell_type": "code",
   "execution_count": 6,
   "id": "381b362e",
   "metadata": {},
   "outputs": [
    {
     "name": "stdout",
     "output_type": "stream",
     "text": [
      "Training set shape: (404, 13)\n",
      "Testing set shape: (102, 13)\n"
     ]
    }
   ],
   "source": [
    "# Split the data into training and testing set\n",
    "from sklearn.model_selection import train_test_split\n",
    "\n",
    "Boston_train, Boston_test = train_test_split(\n",
    "  Boston, \n",
    "  train_size = 0.8,\n",
    "  random_state = 425, # seed\n",
    "  )\n",
    "print('Training set shape:', Boston_train.shape)\n",
    "print('Testing set shape:', Boston_test.shape)"
   ]
  },
  {
   "cell_type": "code",
   "execution_count": 7,
   "id": "d6bfaf54",
   "metadata": {},
   "outputs": [],
   "source": [
    "# Separate X and y\n",
    "\n",
    "# Training X and y\n",
    "X_train = Boston_train.drop('crim', axis = 1)\n",
    "y_train = Boston_train.crim\n",
    "\n",
    "# Testing X and y\n",
    "X_test = Boston_test.drop('crim', axis = 1)\n",
    "y_test = Boston_test.crim"
   ]
  },
  {
   "cell_type": "code",
   "execution_count": 8,
   "id": "be3e8016",
   "metadata": {},
   "outputs": [],
   "source": [
    "# Preprocessing data\n",
    "from sklearn.preprocessing import StandardScaler\n",
    "from sklearn.pipeline import Pipeline\n",
    "\n",
    "# Standardization transformer\n",
    "scalar = StandardScaler()"
   ]
  },
  {
   "cell_type": "code",
   "execution_count": 9,
   "id": "0dc1340b",
   "metadata": {},
   "outputs": [],
   "source": [
    "# Build Models\n",
    "from sklearn.linear_model import LinearRegression,Ridge,Lasso\n",
    "LS = LinearRegression()\n",
    "\n",
    "lasso = Lasso(max_iter = 10000)\n",
    "\n",
    "ridge = Ridge(max_iter = 10000)"
   ]
  },
  {
   "cell_type": "code",
   "execution_count": 10,
   "id": "8759eada",
   "metadata": {},
   "outputs": [],
   "source": [
    "# Bundle the preprocessing step and model.\n",
    "pipe1 = Pipeline(steps = [\n",
    "  (\"std_tf\", scalar), \n",
    "  (\"model\", lasso)\n",
    "  ])\n",
    "\n",
    "pipe2 = Pipeline(steps = [\n",
    "  (\"std_tf\", scalar), \n",
    "  (\"model\", ridge)\n",
    "  ])"
   ]
  },
  {
   "cell_type": "code",
   "execution_count": 11,
   "id": "95e2ec73",
   "metadata": {},
   "outputs": [],
   "source": [
    "#Set up the grid for tuning in the range of 10^(-3) to 10^2\n",
    "alphas = np.logspace(start = -3, stop = 2, base = 10, num = 100)\n",
    "tuned_parameters = {\"model__alpha\": alphas}"
   ]
  },
  {
   "cell_type": "code",
   "execution_count": 12,
   "id": "6f5d35a3",
   "metadata": {},
   "outputs": [],
   "source": [
    "# Set up CV partitions and CV criterion\n",
    "from sklearn.model_selection import GridSearchCV\n",
    "\n",
    "# Set up CV\n",
    "n_folds = 5\n",
    "search1 = GridSearchCV(\n",
    "  pipe1, \n",
    "  tuned_parameters, \n",
    "  cv = n_folds, \n",
    "  scoring = \"neg_root_mean_squared_error\",\n",
    "  # Refit the best model on the whole data set\n",
    "  refit = True \n",
    "  )\n",
    "\n",
    "search2 = GridSearchCV(\n",
    "  pipe2, \n",
    "  tuned_parameters, \n",
    "  cv = n_folds, \n",
    "  scoring = \"neg_root_mean_squared_error\",\n",
    "  # Refit the best model on the whole data set\n",
    "  refit = True \n",
    "  )"
   ]
  },
  {
   "cell_type": "code",
   "execution_count": 13,
   "id": "a1a7a3eb",
   "metadata": {},
   "outputs": [
    {
     "data": {
      "text/plain": [
       "GridSearchCV(cv=5,\n",
       "             estimator=Pipeline(steps=[('std_tf', StandardScaler()),\n",
       "                                       ('model', Lasso(max_iter=10000))]),\n",
       "             param_grid={'model__alpha': array([1.00000000e-03, 1.12332403e-03, 1.26185688e-03, 1.41747416e-03,\n",
       "       1.59228279e-03, 1.78864953e-03, 2.00923300e-03, 2.25701972e-03,\n",
       "       2.53536449e-03, 2.84803587e-03, 3.19926714e-03, 3.59381366e-03,\n",
       "       4.03701726e-03, 4.53487851e-03,...\n",
       "       6.89261210e+00, 7.74263683e+00, 8.69749003e+00, 9.77009957e+00,\n",
       "       1.09749877e+01, 1.23284674e+01, 1.38488637e+01, 1.55567614e+01,\n",
       "       1.74752840e+01, 1.96304065e+01, 2.20513074e+01, 2.47707636e+01,\n",
       "       2.78255940e+01, 3.12571585e+01, 3.51119173e+01, 3.94420606e+01,\n",
       "       4.43062146e+01, 4.97702356e+01, 5.59081018e+01, 6.28029144e+01,\n",
       "       7.05480231e+01, 7.92482898e+01, 8.90215085e+01, 1.00000000e+02])},\n",
       "             scoring='neg_root_mean_squared_error')"
      ]
     },
     "execution_count": 13,
     "metadata": {},
     "output_type": "execute_result"
    }
   ],
   "source": [
    "# Fit CV\n",
    "search1.fit(X_train, y_train)"
   ]
  },
  {
   "cell_type": "code",
   "execution_count": 14,
   "id": "99279d7d",
   "metadata": {},
   "outputs": [
    {
     "data": {
      "text/plain": [
       "GridSearchCV(cv=5,\n",
       "             estimator=Pipeline(steps=[('std_tf', StandardScaler()),\n",
       "                                       ('model', Ridge(max_iter=10000))]),\n",
       "             param_grid={'model__alpha': array([1.00000000e-03, 1.12332403e-03, 1.26185688e-03, 1.41747416e-03,\n",
       "       1.59228279e-03, 1.78864953e-03, 2.00923300e-03, 2.25701972e-03,\n",
       "       2.53536449e-03, 2.84803587e-03, 3.19926714e-03, 3.59381366e-03,\n",
       "       4.03701726e-03, 4.53487851e-03,...\n",
       "       6.89261210e+00, 7.74263683e+00, 8.69749003e+00, 9.77009957e+00,\n",
       "       1.09749877e+01, 1.23284674e+01, 1.38488637e+01, 1.55567614e+01,\n",
       "       1.74752840e+01, 1.96304065e+01, 2.20513074e+01, 2.47707636e+01,\n",
       "       2.78255940e+01, 3.12571585e+01, 3.51119173e+01, 3.94420606e+01,\n",
       "       4.43062146e+01, 4.97702356e+01, 5.59081018e+01, 6.28029144e+01,\n",
       "       7.05480231e+01, 7.92482898e+01, 8.90215085e+01, 1.00000000e+02])},\n",
       "             scoring='neg_root_mean_squared_error')"
      ]
     },
     "execution_count": 14,
     "metadata": {},
     "output_type": "execute_result"
    }
   ],
   "source": [
    "search2.fit(X_train, y_train)"
   ]
  },
  {
   "cell_type": "code",
   "execution_count": 15,
   "id": "1e7e479f",
   "metadata": {},
   "outputs": [
    {
     "data": {
      "text/plain": [
       "<Figure size 432x288 with 0 Axes>"
      ]
     },
     "metadata": {},
     "output_type": "display_data"
    },
    {
     "data": {
      "image/png": "[encoded data removed]",
      "text/plain": [
       "<Figure size 360x360 with 1 Axes>"
      ]
     },
     "metadata": {
      "needs_background": "light"
     },
     "output_type": "display_data"
    },
    {
     "name": "stdout",
     "output_type": "stream",
     "text": [
      "Lasso best CV RMSE: 7.072469903671658\n"
     ]
    }
   ],
   "source": [
    "# Plot the CV results for lasso regression\n",
    "cv_res1 = pd.DataFrame({\n",
    "  \"alpha\": alphas,\n",
    "  \"rmse\": -search1.cv_results_[\"mean_test_score\"]\n",
    "  })\n",
    "\n",
    "plt.figure()\n",
    "sns.relplot(\n",
    "  data = cv_res1,\n",
    "  x = \"alpha\",\n",
    "  y = \"rmse\"\n",
    "  ).set(\n",
    "    xlabel = \"alpha\",\n",
    "    ylabel = \"CV RMSE\",\n",
    "    xscale = \"log\"\n",
    ");\n",
    "plt.show()\n",
    "\n",
    "# Get the best CV RMSE \n",
    "print('Lasso best CV RMSE:', -search1.best_score_)"
   ]
  },
  {
   "cell_type": "code",
   "execution_count": 16,
   "id": "db3d03da",
   "metadata": {},
   "outputs": [
    {
     "data": {
      "text/plain": [
       "<Figure size 432x288 with 0 Axes>"
      ]
     },
     "metadata": {},
     "output_type": "display_data"
    },
    {
     "data": {
      "image/png": "[encoded data removed]",
      "text/plain": [
       "<Figure size 360x360 with 1 Axes>"
      ]
     },
     "metadata": {
      "needs_background": "light"
     },
     "output_type": "display_data"
    },
    {
     "name": "stdout",
     "output_type": "stream",
     "text": [
      "Ridge best CV RMSE: 7.082722382699549\n"
     ]
    }
   ],
   "source": [
    "# Plot the CV results for ridge regression\n",
    "cv_res2 = pd.DataFrame({\n",
    "  \"alpha\": alphas,\n",
    "  \"rmse\": -search2.cv_results_[\"mean_test_score\"]\n",
    "  })\n",
    "\n",
    "plt.figure()\n",
    "sns.relplot(\n",
    "  data = cv_res2,\n",
    "  x = \"alpha\",\n",
    "  y = \"rmse\"\n",
    "  ).set(\n",
    "    xlabel = \"alpha\",\n",
    "    ylabel = \"CV RMSE\",\n",
    "    xscale = \"log\"\n",
    ");\n",
    "plt.show()\n",
    "\n",
    "# Get the best CV RMSE \n",
    "print('Ridge best CV RMSE:', -search2.best_score_)"
   ]
  },
  {
   "cell_type": "code",
   "execution_count": 17,
   "id": "f82d40fc",
   "metadata": {},
   "outputs": [
    {
     "name": "stdout",
     "output_type": "stream",
     "text": [
      "Lasso prediction RMSE on the testing set: 2.7957851285333697\n",
      "Ridge prediction RMSE on the testing set: 2.770139139847998\n"
     ]
    }
   ],
   "source": [
    "from sklearn.metrics import mean_squared_error\n",
    "\n",
    "# Get the final prediction RMSE on the testing set\n",
    "mse1 = mean_squared_error(y_test, search1.best_estimator_.predict(X_test), squared = False)\n",
    "mse2 = mean_squared_error(y_test, search2.best_estimator_.predict(X_test), squared = False)\n",
    "\n",
    "print('Lasso prediction RMSE on the testing set:', mse1)\n",
    "print('Ridge prediction RMSE on the testing set:', mse2)"
   ]
  },
  {
   "cell_type": "code",
   "execution_count": 18,
   "id": "1f702e0a",
   "metadata": {},
   "outputs": [
    {
     "name": "stdout",
     "output_type": "stream",
     "text": [
      "Least squares CV RMSE: 7.107116601569681\n"
     ]
    }
   ],
   "source": [
    "# Calculate CV RMSE and test RMSE for least squares\n",
    "from sklearn.model_selection import cross_val_score\n",
    "\n",
    "LS_RMSE = -cross_val_score(LS, X_train, y_train, cv=5, \n",
    "                        scoring = \"neg_root_mean_squared_error\").mean()\n",
    "print('Least squares CV RMSE:', LS_RMSE)"
   ]
  },
  {
   "cell_type": "code",
   "execution_count": 19,
   "id": "8420dd6c",
   "metadata": {},
   "outputs": [
    {
     "name": "stdout",
     "output_type": "stream",
     "text": [
      "Least squares prediction RMSE on the testing set: 2.9251642262456703\n"
     ]
    }
   ],
   "source": [
    "# Get the final prediction RMSE on the testing set\n",
    "reg = LS.fit(X_train, y_train)\n",
    "mse3 = mean_squared_error(y_test, reg.predict(X_test), squared = False)\n",
    "print('Least squares prediction RMSE on the testing set:', mse3)"
   ]
  },
  {
   "cell_type": "code",
   "execution_count": 20,
   "id": "24e5747e",
   "metadata": {},
   "outputs": [
    {
     "name": "stdout",
     "output_type": "stream",
     "text": [
      "  Method   CV RMSE  Test RMSE\n",
      "0     LS  7.107117   2.925164\n",
      "1  Ridge  7.082722   2.770139\n",
      "2  Lasso  7.072470   2.795785\n"
     ]
    }
   ],
   "source": [
    "# Report final results\n",
    "result = {\n",
    "    'Method': ['LS', 'Ridge', 'Lasso'],\n",
    "    'CV RMSE': [LS_RMSE, -search2.best_score_, -search1.best_score_],\n",
    "    'Test RMSE': [mse3, mse2, mse1]\n",
    "}\n",
    "\n",
    "print(pd.DataFrame(result))"
   ]
  },
  {
   "cell_type": "markdown",
   "id": "b52acd6c",
   "metadata": {},
   "source": [
    "### (a)"
   ]
  },
  {
   "cell_type": "markdown",
   "id": "53b79432",
   "metadata": {},
   "source": [
    "The results for least squares, ridge, and lasso are show from the analysis above. The cross-validation root mean squared errors for these models are 7.11, 7.08 and 7.07 respectively. The test RMSE root mean squared errors for these models are 2.93, 2.77 and 2.80 respectively."
   ]
  },
  {
   "cell_type": "markdown",
   "id": "bd246a8b",
   "metadata": {},
   "source": [
    "### (b)"
   ]
  },
  {
   "cell_type": "markdown",
   "id": "9e850821",
   "metadata": {},
   "source": [
    "From the analysis above, it seems that both ridge and lasso perform well on this data set. Among all three methods, lasso generate the smallest CV RMSE and ridge generate the smallest test RMSE, and the differences of CV RMSE and test RMSE for these two methods are really small. So both ridge and lasso perform well. "
   ]
  },
  {
   "cell_type": "markdown",
   "id": "a240de29",
   "metadata": {},
   "source": [
    "### (c)"
   ]
  },
  {
   "cell_type": "code",
   "execution_count": 21,
   "id": "ba0617a8",
   "metadata": {},
   "outputs": [
    {
     "data": {
      "text/plain": [
       "array([ 5.29998547e-02, -4.27567223e-02, -4.55321221e-01, -1.08257481e+01,\n",
       "        8.22280393e-01,  1.79052700e-03, -1.10680162e+00,  6.60688548e-01,\n",
       "       -5.73858498e-03, -3.23053670e-01,  1.25645558e-01, -2.57576157e-01])"
      ]
     },
     "execution_count": 21,
     "metadata": {},
     "output_type": "execute_result"
    }
   ],
   "source": [
    "# Coefficient for least squares\n",
    "reg.coef_"
   ]
  },
  {
   "cell_type": "code",
   "execution_count": 22,
   "id": "c4f54ec9",
   "metadata": {},
   "outputs": [
    {
     "data": {
      "text/plain": [
       "array([ 0.88611358, -0.27557553, -0.08549562, -0.54104411,  0.32416901,\n",
       "        0.        , -1.55024072,  4.72158568, -0.        , -0.37408799,\n",
       "        0.85341566, -1.74381724])"
      ]
     },
     "execution_count": 22,
     "metadata": {},
     "output_type": "execute_result"
    }
   ],
   "source": [
    "# Coefficient for Lasso\n",
    "search1.best_estimator_.named_steps.model.coef_"
   ]
  },
  {
   "cell_type": "code",
   "execution_count": 23,
   "id": "8143e203",
   "metadata": {},
   "outputs": [
    {
     "data": {
      "text/plain": [
       "array([ 0.95442315, -0.44440035, -0.14401366, -0.73880939,  0.50267053,\n",
       "        0.04702148, -1.8039775 ,  4.41468487,  0.26020818, -0.44977901,\n",
       "        1.04129489, -1.873062  ])"
      ]
     },
     "execution_count": 23,
     "metadata": {},
     "output_type": "execute_result"
    }
   ],
   "source": [
    "# Coefficient for Ridge\n",
    "search2.best_estimator_.named_steps.model.coef_"
   ]
  },
  {
   "cell_type": "markdown",
   "id": "aacad35e",
   "metadata": {},
   "source": [
    "Because all the coefficients for ridge and least squares regression methods are not 0, they both involve all of the features in the data set. But two of the coefficients for lasso regression method are 0, it doesn't involve all of the features in the data set."
   ]
  },
  {
   "cell_type": "markdown",
   "id": "3d3eb97e",
   "metadata": {},
   "source": [
    "## 7. ISL Exercise 5.4.2"
   ]
  },
  {
   "cell_type": "markdown",
   "id": "7ccf70f8",
   "metadata": {},
   "source": [
    "### (a)"
   ]
  },
  {
   "cell_type": "markdown",
   "id": "fa8906b8",
   "metadata": {},
   "source": [
    "The probability that the first bootstrap observation is not the jth observation from the original sample is one minus the probability that the first bootstrap observation is the jth observation from the original sample: $1 - \\frac{1}{n}$."
   ]
  },
  {
   "cell_type": "markdown",
   "id": "8ebc8352",
   "metadata": {},
   "source": [
    "### (b)"
   ]
  },
  {
   "cell_type": "markdown",
   "id": "387338d4",
   "metadata": {},
   "source": [
    "Because each bootstrap data set is sampled with replacement from the original data set, so different observations are independent from each other. It's the same as the probability in question (a): $1 - \\frac{1}{n}$."
   ]
  },
  {
   "cell_type": "markdown",
   "id": "0d0933ef",
   "metadata": {},
   "source": [
    "### (c)"
   ]
  },
  {
   "cell_type": "markdown",
   "id": "d0e8234c",
   "metadata": {},
   "source": [
    "Because different observations are independent from each other, the probability that the jth observation is not in the bootstrap sample is the product of the probability that each bootstrap observation is not the jth observation: $(1 - \\frac{1}{n})^n$."
   ]
  },
  {
   "cell_type": "markdown",
   "id": "b1fab937",
   "metadata": {},
   "source": [
    "### (d)"
   ]
  },
  {
   "cell_type": "markdown",
   "id": "3a3f8cf2",
   "metadata": {},
   "source": [
    "The probability that the jth observation is in the bootstrap sample equals to one minus the probability that the jth observation is not in the bootstrap sample: $1 - (1 - \\frac{1}{n})^n$. When $n = 5$, the probability is $1 - (1 - \\frac{1}{5})^5 = 0.672$."
   ]
  },
  {
   "cell_type": "markdown",
   "id": "4ea29346",
   "metadata": {},
   "source": [
    "### (e)"
   ]
  },
  {
   "cell_type": "markdown",
   "id": "b434dd53",
   "metadata": {},
   "source": [
    "When $n = 100$, the probability is $1 - (1 - \\frac{1}{100})^{100} = 0.634$."
   ]
  },
  {
   "cell_type": "markdown",
   "id": "e3751a71",
   "metadata": {},
   "source": [
    "### (f)"
   ]
  },
  {
   "cell_type": "markdown",
   "id": "d1dc36ff",
   "metadata": {},
   "source": [
    "When $n = 10000$, the probability is $1 - (1 - \\frac{1}{10000})^{10000} = 0.632$."
   ]
  },
  {
   "cell_type": "markdown",
   "id": "ffb5ecf0",
   "metadata": {},
   "source": [
    "### (g)"
   ]
  },
  {
   "cell_type": "code",
   "execution_count": 24,
   "id": "52d070ad",
   "metadata": {},
   "outputs": [],
   "source": [
    "x = [i + 1 for i in range(100000)]\n",
    "y = [1-(1-1/i)**i for i in x]"
   ]
  },
  {
   "cell_type": "code",
   "execution_count": 25,
   "id": "228788a6",
   "metadata": {},
   "outputs": [
    {
     "data": {
      "image/png": "[encoded data removed]",
      "text/plain": [
       "<Figure size 432x288 with 1 Axes>"
      ]
     },
     "metadata": {
      "needs_background": "light"
     },
     "output_type": "display_data"
    }
   ],
   "source": [
    "plt.scatter(x,y)\n",
    "plt.xlabel('n')\n",
    "plt.ylabel('probability')\n",
    "plt.show()"
   ]
  },
  {
   "cell_type": "markdown",
   "id": "33ee6361",
   "metadata": {},
   "source": [
    "The probability that the jth observation is in the bootstrap sample decreased sharply as n increases from 1 and then approaches a constant number around 0.632."
   ]
  },
  {
   "cell_type": "markdown",
   "id": "065267de",
   "metadata": {},
   "source": [
    "### (h)"
   ]
  },
  {
   "cell_type": "code",
   "execution_count": 88,
   "id": "4da0f39a",
   "metadata": {},
   "outputs": [
    {
     "data": {
      "text/plain": [
       "0.6355635563556356"
      ]
     },
     "execution_count": 88,
     "metadata": {},
     "output_type": "execute_result"
    }
   ],
   "source": [
    "num = [] \n",
    "for i in np.arange(1, 10000):\n",
    "    num += [np.sum(np.random.randint(low=1, high=101, size=100) == 4) > 0]\n",
    "np.mean(num)"
   ]
  },
  {
   "cell_type": "markdown",
   "id": "dd7402e4",
   "metadata": {},
   "source": [
    "It is very close to the probability we calculated in question (e)."
   ]
  },
  {
   "cell_type": "markdown",
   "id": "9b8a5a0c",
   "metadata": {},
   "source": [
    "## 8. ISL Exercise 5.4.9"
   ]
  },
  {
   "cell_type": "markdown",
   "id": "d639e207",
   "metadata": {},
   "source": [
    "### (a)"
   ]
  },
  {
   "cell_type": "code",
   "execution_count": 26,
   "id": "ef610d51",
   "metadata": {},
   "outputs": [
    {
     "data": {
      "text/plain": [
       "22.532806324110698"
      ]
     },
     "execution_count": 26,
     "metadata": {},
     "output_type": "execute_result"
    }
   ],
   "source": [
    "mu = Boston.medv.mean()\n",
    "mu"
   ]
  },
  {
   "cell_type": "markdown",
   "id": "eefe4b06",
   "metadata": {},
   "source": [
    "### (b)"
   ]
  },
  {
   "cell_type": "code",
   "execution_count": 27,
   "id": "2731f4e0",
   "metadata": {},
   "outputs": [
    {
     "data": {
      "text/plain": [
       "0.4088611474975351"
      ]
     },
     "execution_count": 27,
     "metadata": {},
     "output_type": "execute_result"
    }
   ],
   "source": [
    "sigma = Boston.medv.std()/np.sqrt(Boston.medv.count())\n",
    "sigma"
   ]
  },
  {
   "cell_type": "markdown",
   "id": "638d8b78",
   "metadata": {},
   "source": [
    "### (c)"
   ]
  },
  {
   "cell_type": "code",
   "execution_count": 49,
   "id": "e8364d3e",
   "metadata": {},
   "outputs": [
    {
     "data": {
      "text/plain": [
       "0.40962587329577405"
      ]
     },
     "execution_count": 49,
     "metadata": {},
     "output_type": "execute_result"
    }
   ],
   "source": [
    "from sklearn.utils import resample\n",
    "\n",
    "# Generate 1000 bootstrap samples\n",
    "bootstrapped_mean = []\n",
    "for i in range(1000):\n",
    "    bootstrapped_sample = resample(Boston.medv)\n",
    "    bootstrapped_mu = np.mean(bootstrapped_sample)\n",
    "    bootstrapped_mean.append(bootstrapped_mu)\n",
    "\n",
    "bs_std_mean = np.std(bootstrapped_mean)\n",
    "bs_std_mean"
   ]
  },
  {
   "cell_type": "markdown",
   "id": "e5a33949",
   "metadata": {},
   "source": [
    "This is very close to the value in question (b)."
   ]
  },
  {
   "cell_type": "markdown",
   "id": "616e0042",
   "metadata": {},
   "source": [
    "### (d)"
   ]
  },
  {
   "cell_type": "code",
   "execution_count": 36,
   "id": "313fe848",
   "metadata": {},
   "outputs": [
    {
     "name": "stdout",
     "output_type": "stream",
     "text": [
      "95% Confidence interval for the mean: [21.694710357878286, 23.37090229034311]\n"
     ]
    }
   ],
   "source": [
    "# Bootstrap 95% confidence interval for the mean\n",
    "lb = mu - 2*bs_std\n",
    "hb = mu + 2*bs_std\n",
    "CI_bs = [lb, hb]\n",
    "print(\"95% Confidence interval for the mean:\", CI_bs)"
   ]
  },
  {
   "cell_type": "code",
   "execution_count": 43,
   "id": "ada3a003",
   "metadata": {},
   "outputs": [
    {
     "name": "stdout",
     "output_type": "stream",
     "text": [
      "95% Confidence interval for the mean: (21.729528014578616, 23.33608463364278)\n"
     ]
    }
   ],
   "source": [
    "# T-test 95% confidence interval for the mean\n",
    "from scipy import stats\n",
    "\n",
    "alpha = 0.05\n",
    "mean = np.mean(Boston.medv) \n",
    "std_err = stats.sem(Boston.medv) \n",
    "df = len(Boston.medv) - 1 \n",
    "CI_ttest = stats.t.interval(1-alpha, df, loc=mean, scale=std_err)\n",
    "print(\"95% Confidence interval for the mean:\", CI_ttest)"
   ]
  },
  {
   "cell_type": "markdown",
   "id": "330c3039",
   "metadata": {},
   "source": [
    "We can see that they are very similar to each other."
   ]
  },
  {
   "cell_type": "markdown",
   "id": "3beb479b",
   "metadata": {},
   "source": [
    "### (e)"
   ]
  },
  {
   "cell_type": "code",
   "execution_count": 44,
   "id": "414d109e",
   "metadata": {},
   "outputs": [
    {
     "data": {
      "text/plain": [
       "21.2"
      ]
     },
     "execution_count": 44,
     "metadata": {},
     "output_type": "execute_result"
    }
   ],
   "source": [
    "med = Boston.medv.median()\n",
    "med"
   ]
  },
  {
   "cell_type": "markdown",
   "id": "b6e5b46b",
   "metadata": {},
   "source": [
    "### (f)"
   ]
  },
  {
   "cell_type": "code",
   "execution_count": 51,
   "id": "71e5d220",
   "metadata": {},
   "outputs": [
    {
     "data": {
      "text/plain": [
       "0.3784803693720452"
      ]
     },
     "execution_count": 51,
     "metadata": {},
     "output_type": "execute_result"
    }
   ],
   "source": [
    "# Generate 1000 bootstrap samples\n",
    "bootstrapped_median = []\n",
    "for i in range(1000):\n",
    "    bootstrapped_sample = resample(Boston.medv)\n",
    "    bootstrapped_med = np.median(bootstrapped_sample)\n",
    "    bootstrapped_median.append(bootstrapped_med)\n",
    "\n",
    "bs_std_med = np.std(bootstrapped_median)\n",
    "bs_std_med"
   ]
  },
  {
   "cell_type": "markdown",
   "id": "143c3bad",
   "metadata": {},
   "source": [
    "The estimated standard error is smaller than the standard error for mean. "
   ]
  },
  {
   "cell_type": "markdown",
   "id": "c2574e22",
   "metadata": {},
   "source": [
    "### (g)"
   ]
  },
  {
   "cell_type": "code",
   "execution_count": 52,
   "id": "ba3d4b05",
   "metadata": {},
   "outputs": [
    {
     "data": {
      "text/plain": [
       "12.75"
      ]
     },
     "execution_count": 52,
     "metadata": {},
     "output_type": "execute_result"
    }
   ],
   "source": [
    "ten_pc = Boston.medv.quantile(0.1)\n",
    "ten_pc"
   ]
  },
  {
   "cell_type": "markdown",
   "id": "a149ab42",
   "metadata": {},
   "source": [
    "### (h)"
   ]
  },
  {
   "cell_type": "code",
   "execution_count": 54,
   "id": "bb9a6d8f",
   "metadata": {},
   "outputs": [
    {
     "data": {
      "text/plain": [
       "0.4710807149523317"
      ]
     },
     "execution_count": 54,
     "metadata": {},
     "output_type": "execute_result"
    }
   ],
   "source": [
    "# Generate 1000 bootstrap samples\n",
    "bootstrapped_quantile = []\n",
    "for i in range(1000):\n",
    "    bootstrapped_sample = resample(Boston.medv)\n",
    "    bootstrapped_qt = np.quantile(bootstrapped_sample, 0.1)\n",
    "    bootstrapped_quantile.append(bootstrapped_qt)\n",
    "\n",
    "bs_std_qt = np.std(bootstrapped_quantile)\n",
    "bs_std_qt"
   ]
  },
  {
   "cell_type": "markdown",
   "id": "df29cdf7",
   "metadata": {},
   "source": [
    "The estimated standard error is larger than the standard error for mean."
   ]
  },
  {
   "cell_type": "markdown",
   "id": "5734f7b2",
   "metadata": {},
   "source": [
    "## 9. Bonus question"
   ]
  },
  {
   "cell_type": "markdown",
   "id": "d4eafcdd",
   "metadata": {},
   "source": [
    " $\\operatorname{E}[R_{\\text{train}}(\\hat\\beta)] = \\operatorname{E}[\\frac{1}{N} \\sum_{i=1}^N (y_i - \\hat\\beta^T x_i)^2] = \\frac{1}{N} \\sum_{i=1}^N \\operatorname{E}[(y_i - \\hat\\beta^T x_i)^2]$\n",
    " \n",
    " $\\operatorname{E}[R_{\\text{test}}(\\hat\\beta)] = \\operatorname{E}[\\frac{1}{M} \\sum_{i=1}^M (\\tilde{y}_i - \\hat\\beta^T \\tilde{x}_i)^2] = \\frac{1}{M} \\sum_{i=1}^M \\operatorname{E}[(\\tilde{y}_i - \\hat\\beta^T \\tilde{x}_i)^2]$\n",
    " \n",
    " Because those data are i.i.d., $\\operatorname{E}[R_{\\text{train}}(\\hat\\beta)] = \\operatorname{E}[(y_i - \\hat\\beta^T x_i)^2]$ and $\\operatorname{E}[R_{\\text{test}}(\\hat\\beta)] = \\operatorname{E}[(\\tilde{y}_i - \\hat\\beta^T \\tilde{x}_i)^2]$.\n",
    " \n",
    " Because $\\hat\\beta$ is generated from least square estimation, for every possible value of $\\beta$ we can know that $\\frac{1}{N} \\sum_{i=1}^N (y_i - \\hat\\beta^T x_i)^2 \\le \\frac{1}{N} \\sum_{i=1}^N (y_i - \\beta^T x_i)^2$. So $\\operatorname{E}[(y_i - \\hat\\beta^T x_i)^2] \\le \\operatorname{E}[(y_i - \\beta^T x_i)^2]$.\n",
    " \n",
    " Suppose $\\beta = \\frac{1}{||X_i||^2}(Y_iX_i - \\tilde{Y}_jX_i + X_i\\tilde{X}_j^T\\hat\\beta)$, plug into the equation above we can get $\\operatorname{E}[(y_i - \\hat\\beta^T x_i)^2] \\le \\operatorname{E}[(\\tilde{y}_i - \\hat\\beta^T \\tilde{x}_i)^2]$.\n",
    "\n",
    "So $\\operatorname{E}[R_{\\text{train}}(\\hat{\\beta})] < \\operatorname{E}[R_{\\text{test}}(\\hat{\\beta})]$."
   ]
  }
 ],
 "metadata": {
  "kernelspec": {
   "display_name": "Python 3 (ipykernel)",
   "language": "python",
   "name": "python3"
  },
  "language_info": {
   "codemirror_mode": {
    "name": "ipython",
    "version": 3
   },
   "file_extension": ".py",
   "mimetype": "text/x-python",
   "name": "python",
   "nbconvert_exporter": "python",
   "pygments_lexer": "ipython3",
   "version": "3.9.12"
  }
 },
 "nbformat": 4,
 "nbformat_minor": 5
}
